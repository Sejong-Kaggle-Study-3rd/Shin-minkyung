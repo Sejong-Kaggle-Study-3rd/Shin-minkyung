{
  "nbformat": 4,
  "nbformat_minor": 0,
  "metadata": {
    "kernelspec": {
      "display_name": "Python 3",
      "language": "python",
      "name": "python3"
    },
    "language_info": {
      "codemirror_mode": {
        "name": "ipython",
        "version": 3
      },
      "file_extension": ".py",
      "mimetype": "text/x-python",
      "name": "python",
      "nbconvert_exporter": "python",
      "pygments_lexer": "ipython3",
      "version": "3.7.3"
    },
    "colab": {
      "name": "Untitled8.ipynb",
      "provenance": []
    }
  },
  "cells": [
    {
      "cell_type": "code",
      "metadata": {
        "id": "wixtuTa08ees",
        "colab": {
          "base_uri": "https://localhost:8080/"
        },
        "outputId": "b8af3149-1e01-46ed-a233-f703012f7a16"
      },
      "source": [
        "# 3장 KNN 분류\n",
        "#데이터 셋 불러오기\n",
        "import seaborn as sns  #seaborn을 불러오고 sns로 축약\n",
        "iris = sns.load_dataset('iris') #Iris 데이터를 다운로드\n",
        "print(iris.head()) #최초 5개의 관측치 print"
      ],
      "execution_count": 1,
      "outputs": [
        {
          "output_type": "stream",
          "text": [
            "   sepal_length  sepal_width  petal_length  petal_width species\n",
            "0           5.1          3.5           1.4          0.2  setosa\n",
            "1           4.9          3.0           1.4          0.2  setosa\n",
            "2           4.7          3.2           1.3          0.2  setosa\n",
            "3           4.6          3.1           1.5          0.2  setosa\n",
            "4           5.0          3.6           1.4          0.2  setosa\n"
          ],
          "name": "stdout"
        }
      ]
    },
    {
      "cell_type": "code",
      "metadata": {
        "colab": {
          "base_uri": "https://localhost:8080/"
        },
        "id": "ZPgh3yQsDCkO",
        "outputId": "e6887bde-7521-4f78-b5fc-11357c56d346"
      },
      "source": [
        "print(iris.shape) #shape:data의 행과 열의 수\n",
        "\n",
        "X = iris.drop('species',axis=1) #drop: species 필드를 삭제, X:입력데이터\n",
        "print(X.shape)\n",
        "\n",
        "y = iris['species'] #Y:라벨,타켓"
      ],
      "execution_count": 4,
      "outputs": [
        {
          "output_type": "stream",
          "text": [
            "(150, 5)\n",
            "(150, 4)\n"
          ],
          "name": "stdout"
        }
      ]
    },
    {
      "cell_type": "code",
      "metadata": {
        "colab": {
          "base_uri": "https://localhost:8080/"
        },
        "id": "n-Yvu8lSGRSR",
        "outputId": "90786d3a-4273-4ae9-b310-d9a9ec81aa87"
      },
      "source": [
        "#데이터셋 카테고리의 실수화\n",
        "from sklearn.preprocessing import LabelEncoder\n",
        "import numpy as np\n",
        "classle = LabelEncoder()\n",
        "y = classle.fit_transform(iris['species'].values) #문자열을 categorial 값으로 전환\n",
        "print('species label:',np.unique(y)); #unique:중복 제외"
      ],
      "execution_count": 7,
      "outputs": [
        {
          "output_type": "stream",
          "text": [
            "species label: [0 1 2]\n"
          ],
          "name": "stdout"
        }
      ]
    },
    {
      "cell_type": "code",
      "metadata": {
        "colab": {
          "base_uri": "https://localhost:8080/"
        },
        "id": "SaPRxthCGpHz",
        "outputId": "9e887938-bd95-49b4-e09b-edd95ffd5b94"
      },
      "source": [
        "yo = classle.inverse_transform(y) #원래의 문자열로 전환\n",
        "print('species:',np.unique(yo))"
      ],
      "execution_count": 8,
      "outputs": [
        {
          "output_type": "stream",
          "text": [
            "species: ['setosa' 'versicolor' 'virginica']\n"
          ],
          "name": "stdout"
        }
      ]
    },
    {
      "cell_type": "code",
      "metadata": {
        "colab": {
          "base_uri": "https://localhost:8080/"
        },
        "id": "5yoUL489KJpo",
        "outputId": "447c1db3-8eea-4983-eb44-07ac3e1a04fa"
      },
      "source": [
        "#데이터 분할\n",
        "from sklearn.model_selection import train_test_split\n",
        "X_train, X_test, y_train,y_test = train_test_split(X,y,test_size = 0.3, random_state = 1,stratify=y) #test_size:0.7train,0.3test, stratify: 한 쪽이 쏠려서 분배되는 것을 방지 \n",
        "print(X_train.shape)\n",
        "print(X_test.shape)\n",
        "print(y_train.shape)\n",
        "print(y_test.shape)"
      ],
      "execution_count": 10,
      "outputs": [
        {
          "output_type": "stream",
          "text": [
            "(105, 4)\n",
            "(45, 4)\n",
            "(105,)\n",
            "(45,)\n"
          ],
          "name": "stdout"
        }
      ]
    },
    {
      "cell_type": "code",
      "metadata": {
        "colab": {
          "base_uri": "https://localhost:8080/"
        },
        "id": "FG7GzpG7MfZ6",
        "outputId": "81b896b7-c71a-4e97-b28c-eec8437beb40"
      },
      "source": [
        "#모델 추정 및 사례중심학습\n",
        "from sklearn.neighbors import KNeighborsClassifier\n",
        "knn = KNeighborsClassifier(n_neighbors=5,p=2) #k=5, p=2:유클리드 거리측정\n",
        "#모델 fitting 과정\n",
        "knn.fit(X_train,y_train)"
      ],
      "execution_count": 12,
      "outputs": [
        {
          "output_type": "execute_result",
          "data": {
            "text/plain": [
              "KNeighborsClassifier(algorithm='auto', leaf_size=30, metric='minkowski',\n",
              "                     metric_params=None, n_jobs=None, n_neighbors=5, p=2,\n",
              "                     weights='uniform')"
            ]
          },
          "metadata": {
            "tags": []
          },
          "execution_count": 12
        }
      ]
    },
    {
      "cell_type": "code",
      "metadata": {
        "colab": {
          "base_uri": "https://localhost:8080/"
        },
        "id": "u6mFKRTPM3lv",
        "outputId": "6980958a-d497-410e-f4a9-a351c3843eba"
      },
      "source": [
        "y_train_pred = knn.predict(X_train)\n",
        "#y_train_pred = knn.predict(X_test_std)\n",
        "y_test_pred = knn.predict(X_test)\n",
        "print('MisClassified training samples: %d'%(y_train!=y_train_pred).sum())\n",
        "print('MisClassified test samples: %d'%(y_test!=y_test_pred).sum())"
      ],
      "execution_count": 15,
      "outputs": [
        {
          "output_type": "stream",
          "text": [
            "MisClassified training samples: 2\n",
            "MisClassified test samples: 1\n"
          ],
          "name": "stdout"
        }
      ]
    },
    {
      "cell_type": "code",
      "metadata": {
        "colab": {
          "base_uri": "https://localhost:8080/"
        },
        "id": "f3jUd2wPNb-w",
        "outputId": "e8da612a-95a9-47c8-b289-6e51cecf74e1"
      },
      "source": [
        "#결과분석\n",
        "from sklearn.metrics import accuracy_score #정확도 계산rom sklearn.metrics import accuracy_score #정확도 계산\n",
        "print(accuracy_score(y_test,y_test_pred))\n",
        "print(accuracy_score(y_test,y_test_pred))"
      ],
      "execution_count": 16,
      "outputs": [
        {
          "output_type": "stream",
          "text": [
            "0.9777777777777777\n"
          ],
          "name": "stdout"
        }
      ]
    }
  ]
}