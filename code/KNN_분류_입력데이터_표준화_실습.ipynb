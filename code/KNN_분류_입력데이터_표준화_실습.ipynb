{
  "nbformat": 4,
  "nbformat_minor": 0,
  "metadata": {
    "colab": {
      "name": "KNN 분류_입력데이터 표준화_실습.ipynb",
      "provenance": []
    },
    "kernelspec": {
      "name": "python3",
      "display_name": "Python 3"
    },
    "language_info": {
      "name": "python"
    }
  },
  "cells": [
    {
      "cell_type": "code",
      "metadata": {
        "colab": {
          "base_uri": "https://localhost:8080/"
        },
        "id": "a8QM_Swfqnl_",
        "outputId": "a0881487-2b0a-4e44-eccd-103f9bd31d85"
      },
      "source": [
        "# 3장 KNN 분류 입력데이터의 표준화화\n",
        "#데이터 셋 불러오기\n",
        "import seaborn as sns  #seaborn을 불러오고 sns로 축약\n",
        "iris = sns.load_dataset('iris') #Iris 데이터를 다운로드\n",
        "print(iris.head()) #최초 5개의 관측치 print"
      ],
      "execution_count": 1,
      "outputs": [
        {
          "output_type": "stream",
          "text": [
            "   sepal_length  sepal_width  petal_length  petal_width species\n",
            "0           5.1          3.5           1.4          0.2  setosa\n",
            "1           4.9          3.0           1.4          0.2  setosa\n",
            "2           4.7          3.2           1.3          0.2  setosa\n",
            "3           4.6          3.1           1.5          0.2  setosa\n",
            "4           5.0          3.6           1.4          0.2  setosa\n"
          ],
          "name": "stdout"
        }
      ]
    },
    {
      "cell_type": "code",
      "metadata": {
        "colab": {
          "base_uri": "https://localhost:8080/"
        },
        "id": "y6AJjuejq7B6",
        "outputId": "9f2e3c97-366e-473e-8934-cc77456fc205"
      },
      "source": [
        "print(iris.shape) #shape:data의 행과 열의 수\n",
        "\n",
        "X = iris.drop('species',axis=1) #drop: species 필드를 삭제, X:입력데이터\n",
        "print(X.shape)\n",
        "\n",
        "y = iris['species'] #Y:라벨,타켓"
      ],
      "execution_count": 2,
      "outputs": [
        {
          "output_type": "stream",
          "text": [
            "(150, 5)\n",
            "(150, 4)\n"
          ],
          "name": "stdout"
        }
      ]
    },
    {
      "cell_type": "code",
      "metadata": {
        "colab": {
          "base_uri": "https://localhost:8080/"
        },
        "id": "OrrWwpQkq-UR",
        "outputId": "8cfaf103-913d-4ca3-979a-fa8ce3db740c"
      },
      "source": [
        "#데이터셋 카테고리의 실수화\n",
        "from sklearn.preprocessing import LabelEncoder\n",
        "import numpy as np\n",
        "classle = LabelEncoder()\n",
        "y = classle.fit_transform(iris['species'].values) #문자열을 categorial 값으로 전환\n",
        "print('species label:',np.unique(y)); #unique:중복 제외"
      ],
      "execution_count": 4,
      "outputs": [
        {
          "output_type": "stream",
          "text": [
            "species label: [0 1 2]\n"
          ],
          "name": "stdout"
        }
      ]
    },
    {
      "cell_type": "code",
      "metadata": {
        "colab": {
          "base_uri": "https://localhost:8080/"
        },
        "id": "eRiWp7aNrAIc",
        "outputId": "0545cce8-b53e-4b4f-e026-e4da7112ee81"
      },
      "source": [
        "yo = classle.inverse_transform(y) #원래의 문자열로 전환\n",
        "print('species:',np.unique(yo))"
      ],
      "execution_count": 5,
      "outputs": [
        {
          "output_type": "stream",
          "text": [
            "species: ['setosa' 'versicolor' 'virginica']\n"
          ],
          "name": "stdout"
        }
      ]
    },
    {
      "cell_type": "code",
      "metadata": {
        "colab": {
          "base_uri": "https://localhost:8080/"
        },
        "id": "Vxx3oRK4rCKu",
        "outputId": "0bf93589-59bd-4b42-805f-fef00a08aaa3"
      },
      "source": [
        "#데이터 분할\n",
        "from sklearn.model_selection import train_test_split\n",
        "X_train, X_test, y_train,y_test = train_test_split(X,y,test_size = 0.3, random_state = 1,stratify=y) #test_size:0.7train,0.3test, stratify: 한 쪽이 쏠려서 분배되는 것을 방지 \n",
        "print(X_train.shape)\n",
        "print(X_test.shape)\n",
        "print(y_train.shape)\n",
        "print(y_test.shape)"
      ],
      "execution_count": 6,
      "outputs": [
        {
          "output_type": "stream",
          "text": [
            "(105, 4)\n",
            "(45, 4)\n",
            "(105,)\n",
            "(45,)\n"
          ],
          "name": "stdout"
        }
      ]
    },
    {
      "cell_type": "code",
      "metadata": {
        "colab": {
          "base_uri": "https://localhost:8080/"
        },
        "id": "772wzntQrxxJ",
        "outputId": "8b23779e-759c-4546-a53c-c6200199d87a"
      },
      "source": [
        "#입력데이터의 표준화\n",
        "from sklearn.preprocessing import StandardScaler \n",
        "sc = StandardScaler()\n",
        "sc.fit(X_train)\n",
        "X_train_std = sc.transform(X_train) #train data 표준화\n",
        "X_test_std = sc.transform(X_test) #test data 표준화\n",
        "\n",
        "#표준화 데이터 확인\n",
        "print(X_train.head())\n",
        "X_train_std[1:5,]"
      ],
      "execution_count": 14,
      "outputs": [
        {
          "output_type": "stream",
          "text": [
            "     sepal_length  sepal_width  petal_length  petal_width\n",
            "33            5.5          4.2           1.4          0.2\n",
            "20            5.4          3.4           1.7          0.2\n",
            "115           6.4          3.2           5.3          2.3\n",
            "124           6.7          3.3           5.7          2.1\n",
            "35            5.0          3.2           1.2          0.2\n"
          ],
          "name": "stdout"
        },
        {
          "output_type": "execute_result",
          "data": {
            "text/plain": [
              "array([[-0.55053619,  0.76918392, -1.16537974, -1.30728421],\n",
              "       [ 0.65376173,  0.30368356,  0.84243039,  1.44587881],\n",
              "       [ 1.0150511 ,  0.53643374,  1.0655204 ,  1.18367281],\n",
              "       [-1.03225536,  0.30368356, -1.44424226, -1.30728421]])"
            ]
          },
          "metadata": {
            "tags": []
          },
          "execution_count": 14
        }
      ]
    },
    {
      "cell_type": "code",
      "metadata": {
        "colab": {
          "base_uri": "https://localhost:8080/"
        },
        "id": "ZazuIbzesuGC",
        "outputId": "55efa4dd-1fbc-471a-87e7-ddbeddad8baa"
      },
      "source": [
        "#모델 추정 및 사례중심학습\n",
        "from sklearn.neighbors import KNeighborsClassifier\n",
        "knn = KNeighborsClassifier(n_neighbors=5,p=2) #k=5, p=2:유클리드 거리측정\n",
        "#모델 fitting 과정\n",
        "knn.fit(X_train,y_train)"
      ],
      "execution_count": 15,
      "outputs": [
        {
          "output_type": "execute_result",
          "data": {
            "text/plain": [
              "KNeighborsClassifier(algorithm='auto', leaf_size=30, metric='minkowski',\n",
              "                     metric_params=None, n_jobs=None, n_neighbors=5, p=2,\n",
              "                     weights='uniform')"
            ]
          },
          "metadata": {
            "tags": []
          },
          "execution_count": 15
        }
      ]
    },
    {
      "cell_type": "code",
      "metadata": {
        "colab": {
          "base_uri": "https://localhost:8080/"
        },
        "id": "tcaVQtxPsxNJ",
        "outputId": "1bef2128-98d9-4dd9-a580-95477ff949be"
      },
      "source": [
        "y_train_pred = knn.predict(X_train_std)\n",
        "y_test_pred = knn.predict(X_test_std)\n",
        "#y_train_pred = knn.predict(X_train)\n",
        "#y_test_pred = knn.predict(X_test)\n",
        "print('MisClassified training samples: %d'%(y_train!=y_train_pred).sum())\n",
        "print('MisClassified test samples: %d'%(y_test!=y_test_pred).sum())"
      ],
      "execution_count": 16,
      "outputs": [
        {
          "output_type": "stream",
          "text": [
            "MisClassified training samples: 70\n",
            "MisClassified test samples: 30\n"
          ],
          "name": "stdout"
        }
      ]
    },
    {
      "cell_type": "code",
      "metadata": {
        "colab": {
          "base_uri": "https://localhost:8080/"
        },
        "id": "Qu4wuWSqtoUC",
        "outputId": "6b83c78e-1f88-43c3-ca43-f8a228952e78"
      },
      "source": [
        "#결과분석\n",
        "from sklearn.metrics import accuracy_score #정확도 계산rom sklearn.metrics import accuracy_score #정확도 계산\n",
        "print(accuracy_score(y_test,y_test_pred))\n",
        "print(accuracy_score(y_test,y_test_pred))"
      ],
      "execution_count": 17,
      "outputs": [
        {
          "output_type": "stream",
          "text": [
            "0.3333333333333333\n",
            "0.3333333333333333\n"
          ],
          "name": "stdout"
        }
      ]
    }
  ]
}