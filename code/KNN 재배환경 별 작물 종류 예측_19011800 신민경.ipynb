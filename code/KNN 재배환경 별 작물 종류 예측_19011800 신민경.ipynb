{
  "nbformat": 4,
  "nbformat_minor": 0,
  "metadata": {
    "colab": {
      "name": "KNN 분류과제.ipynb",
      "provenance": [],
      "collapsed_sections": [],
      "toc_visible": true
    },
    "kernelspec": {
      "name": "python3",
      "display_name": "Python 3"
    },
    "language_info": {
      "name": "python"
    }
  },
  "cells": [
    {
      "cell_type": "markdown",
      "metadata": {
        "id": "rsc3DSAbAnpO"
      },
      "source": [
        "### 데이터불러오기"
      ]
    },
    {
      "cell_type": "code",
      "metadata": {
        "id": "6gZPJcgACyck"
      },
      "source": [
        "#데이터 불러오기\n",
        "import pandas as pd\n",
        "df1 = pd.read_csv(\"train.csv\", engine = 'python')\n",
        "df2 = pd.read_csv(\"test.csv\", engine = 'python')\n",
        "submit = pd.read_csv(\"submit.csv\",engine = 'python')"
      ],
      "execution_count": 6,
      "outputs": []
    },
    {
      "cell_type": "code",
      "metadata": {
        "colab": {
          "base_uri": "https://localhost:8080/",
          "height": 195
        },
        "id": "xr7eKrJKEVVN",
        "outputId": "b61282be-926a-4a25-b08b-2cd83aa6fb4e"
      },
      "source": [
        "#train data\n",
        "X = df1.drop(['label'],axis=1)\n",
        "y = df1['label']\n",
        "\n",
        "X_test = df2\n",
        "X_test.head()"
      ],
      "execution_count": 7,
      "outputs": [
        {
          "output_type": "execute_result",
          "data": {
            "text/html": [
              "<div>\n",
              "<style scoped>\n",
              "    .dataframe tbody tr th:only-of-type {\n",
              "        vertical-align: middle;\n",
              "    }\n",
              "\n",
              "    .dataframe tbody tr th {\n",
              "        vertical-align: top;\n",
              "    }\n",
              "\n",
              "    .dataframe thead th {\n",
              "        text-align: right;\n",
              "    }\n",
              "</style>\n",
              "<table border=\"1\" class=\"dataframe\">\n",
              "  <thead>\n",
              "    <tr style=\"text-align: right;\">\n",
              "      <th></th>\n",
              "      <th>N</th>\n",
              "      <th>P</th>\n",
              "      <th>K</th>\n",
              "      <th>temperature</th>\n",
              "      <th>humidity</th>\n",
              "      <th>ph</th>\n",
              "      <th>rainfall</th>\n",
              "    </tr>\n",
              "  </thead>\n",
              "  <tbody>\n",
              "    <tr>\n",
              "      <th>0</th>\n",
              "      <td>101</td>\n",
              "      <td>17</td>\n",
              "      <td>47</td>\n",
              "      <td>29.494014</td>\n",
              "      <td>94.729813</td>\n",
              "      <td>6.185053</td>\n",
              "      <td>26.308209</td>\n",
              "    </tr>\n",
              "    <tr>\n",
              "      <th>1</th>\n",
              "      <td>98</td>\n",
              "      <td>8</td>\n",
              "      <td>51</td>\n",
              "      <td>26.179346</td>\n",
              "      <td>86.522581</td>\n",
              "      <td>6.259336</td>\n",
              "      <td>49.430510</td>\n",
              "    </tr>\n",
              "    <tr>\n",
              "      <th>2</th>\n",
              "      <td>59</td>\n",
              "      <td>62</td>\n",
              "      <td>49</td>\n",
              "      <td>43.360515</td>\n",
              "      <td>93.351916</td>\n",
              "      <td>6.941497</td>\n",
              "      <td>114.778071</td>\n",
              "    </tr>\n",
              "    <tr>\n",
              "      <th>3</th>\n",
              "      <td>44</td>\n",
              "      <td>60</td>\n",
              "      <td>55</td>\n",
              "      <td>34.280461</td>\n",
              "      <td>90.555616</td>\n",
              "      <td>6.825371</td>\n",
              "      <td>98.540477</td>\n",
              "    </tr>\n",
              "    <tr>\n",
              "      <th>4</th>\n",
              "      <td>30</td>\n",
              "      <td>137</td>\n",
              "      <td>200</td>\n",
              "      <td>22.914300</td>\n",
              "      <td>90.704756</td>\n",
              "      <td>5.603413</td>\n",
              "      <td>118.604465</td>\n",
              "    </tr>\n",
              "  </tbody>\n",
              "</table>\n",
              "</div>"
            ],
            "text/plain": [
              "     N    P    K  temperature   humidity        ph    rainfall\n",
              "0  101   17   47    29.494014  94.729813  6.185053   26.308209\n",
              "1   98    8   51    26.179346  86.522581  6.259336   49.430510\n",
              "2   59   62   49    43.360515  93.351916  6.941497  114.778071\n",
              "3   44   60   55    34.280461  90.555616  6.825371   98.540477\n",
              "4   30  137  200    22.914300  90.704756  5.603413  118.604465"
            ]
          },
          "metadata": {
            "tags": []
          },
          "execution_count": 7
        }
      ]
    },
    {
      "cell_type": "markdown",
      "metadata": {
        "id": "3pYx9f-RyfyU"
      },
      "source": [
        "### 입력데이터 실수화"
      ]
    },
    {
      "cell_type": "code",
      "metadata": {
        "colab": {
          "base_uri": "https://localhost:8080/"
        },
        "id": "zeG_9qKjyfRx",
        "outputId": "ba6bab60-e705-47d9-eadd-8f73de856230"
      },
      "source": [
        "#데이터셋 카테고리의 실수화\n",
        "from sklearn.preprocessing import LabelEncoder\n",
        "import numpy as np\n",
        "classle = LabelEncoder()\n",
        "y = classle.fit_transform(df1['label'].values) #문자열을 categorial 값으로 전환\n",
        "print('species label:',np.unique(y)); #unique:중복 제외"
      ],
      "execution_count": 8,
      "outputs": [
        {
          "output_type": "stream",
          "text": [
            "species label: [ 0  1  2  3  4  5  6  7  8  9 10 11 12 13 14 15 16 17 18 19 20 21]\n"
          ],
          "name": "stdout"
        }
      ]
    },
    {
      "cell_type": "markdown",
      "metadata": {
        "id": "sW2-Q-0sAi_j"
      },
      "source": [
        "### 데이터분할"
      ]
    },
    {
      "cell_type": "code",
      "metadata": {
        "id": "nYEGFbXDYt5U"
      },
      "source": [
        "#데이터분할\n",
        "#validation 생성\n",
        "#from sklearn.model_selection import train_test_split\n",
        "#X_train, X_val, y_train, y_val = train_test_split(X,y,test_size = 0.3, random_state = 1, stratify = y)\n",
        "\n",
        "X_train = X\n",
        "y_train = y"
      ],
      "execution_count": 9,
      "outputs": []
    },
    {
      "cell_type": "markdown",
      "metadata": {
        "id": "xfbn10a2A3PF"
      },
      "source": [
        "##### 표준화"
      ]
    },
    {
      "cell_type": "code",
      "metadata": {
        "id": "3wMeTZ7T6SBG"
      },
      "source": [
        "#입력데이터 표준화\n",
        "from sklearn.preprocessing import StandardScaler\n",
        "sc = StandardScaler()\n",
        "sc.fit(X_train)\n",
        "\n",
        "X_train_std = sc.transform(X_train)\n",
        "#X_val_std = sc.transform(X_val)\n",
        "X_test_std = sc.transform(X_test)"
      ],
      "execution_count": 10,
      "outputs": []
    },
    {
      "cell_type": "markdown",
      "metadata": {
        "id": "NMy7H_CaA8-D"
      },
      "source": [
        "### 모델추정 및 사례중심학습"
      ]
    },
    {
      "cell_type": "markdown",
      "metadata": {
        "id": "oJFqagDPQH2Z"
      },
      "source": [
        "#### 표준화x"
      ]
    },
    {
      "cell_type": "code",
      "metadata": {
        "colab": {
          "base_uri": "https://localhost:8080/"
        },
        "id": "tBH6N6ddICKb",
        "outputId": "807f38cb-7c1f-4cbe-8537-93e9bf9f3ef7"
      },
      "source": [
        "#모델추정 및 사례중심학습\n",
        "from sklearn.neighbors import KNeighborsClassifier\n",
        "knn = KNeighborsClassifier(n_neighbors = 7, p = 1)\n",
        "knn.fit(X_train,y_train)"
      ],
      "execution_count": 29,
      "outputs": [
        {
          "output_type": "execute_result",
          "data": {
            "text/plain": [
              "KNeighborsClassifier(algorithm='auto', leaf_size=30, metric='minkowski',\n",
              "                     metric_params=None, n_jobs=None, n_neighbors=7, p=1,\n",
              "                     weights='uniform')"
            ]
          },
          "metadata": {
            "tags": []
          },
          "execution_count": 29
        }
      ]
    },
    {
      "cell_type": "code",
      "metadata": {
        "colab": {
          "base_uri": "https://localhost:8080/"
        },
        "id": "UnzRtRceIzkQ",
        "outputId": "4331271c-4946-4385-d8d9-39d39469934d"
      },
      "source": [
        "y_train_pred = knn.predict(X_train)\n",
        "#y_val_pred = knn.predict(X_val)\n",
        "y_test_pred = knn.predict(X_test)\n",
        "\n",
        "print('MisClassified training samples: %d'%(y_train!=y_train_pred).sum())\n",
        "#print('MisClassified validation samples: %d'%(y_val!= y_val_pred).sum())"
      ],
      "execution_count": 30,
      "outputs": [
        {
          "output_type": "stream",
          "text": [
            "MisClassified training samples: 16\n"
          ],
          "name": "stdout"
        }
      ]
    },
    {
      "cell_type": "code",
      "metadata": {
        "id": "HTBHGMrb4KHN"
      },
      "source": [
        "#결과분석\n",
        "#from sklearn.metrics import accuracy_score\n",
        "#print(accuracy_score(y_val,y_val_pred))"
      ],
      "execution_count": 18,
      "outputs": []
    },
    {
      "cell_type": "code",
      "metadata": {
        "id": "Mdz0QxKu4mtD"
      },
      "source": [
        "#from sklearn.metrics import confusion_matrix #오분류표 작성을 위한 모듈 import\n",
        "#conf=confusion_matrix(y_true=y_val,y_pred=y_val_pred)\n",
        "#print(conf)"
      ],
      "execution_count": 17,
      "outputs": []
    },
    {
      "cell_type": "markdown",
      "metadata": {
        "id": "a53vHxHgBG9a"
      },
      "source": [
        "#### 표준화"
      ]
    },
    {
      "cell_type": "code",
      "metadata": {
        "colab": {
          "base_uri": "https://localhost:8080/"
        },
        "id": "EL8tuoLH6-G3",
        "outputId": "381dfefc-edc3-40da-8a5b-aeb00d4b5d4b"
      },
      "source": [
        "knn.fit(X_train_std,y_train)\n",
        "y_train_std_pred = knn.predict(X_train_std)\n",
        "y_test_std_pred = knn.predict(X_test_std)\n",
        "#y_val_std_pred = knn.predict(X_val_std)\n",
        "\n",
        "print('MisClassified training samples: %d'%(y_train!=y_train_std_pred).sum())\n",
        "#print('MisClassified validation samples: %d'%(y_val!= y_val_pred).sum())"
      ],
      "execution_count": 36,
      "outputs": [
        {
          "output_type": "stream",
          "text": [
            "MisClassified training samples: 21\n"
          ],
          "name": "stdout"
        }
      ]
    },
    {
      "cell_type": "code",
      "metadata": {
        "id": "KMl73EEn4UtN"
      },
      "source": [
        "#결과분석\n",
        "#from sklearn.metrics import accuracy_score\n",
        "#print(accuracy_score(y_val,y_val_std_pred))"
      ],
      "execution_count": 37,
      "outputs": []
    },
    {
      "cell_type": "code",
      "metadata": {
        "id": "g2fRiC0S4sFa"
      },
      "source": [
        "#from sklearn.metrics import confusion_matrix #오분류표 작성을 위한 모듈 import\n",
        "#conf=confusion_matrix(y_true=y_val,y_pred=y_val_std_pred)\n",
        "#print(conf)"
      ],
      "execution_count": 38,
      "outputs": []
    },
    {
      "cell_type": "markdown",
      "metadata": {
        "id": "2yqcDdzE8ryC"
      },
      "source": [
        "### 마할노비스거리"
      ]
    },
    {
      "cell_type": "code",
      "metadata": {
        "colab": {
          "base_uri": "https://localhost:8080/"
        },
        "id": "AOrDXP-F8rhi",
        "outputId": "38c7b6e9-4a83-4e45-be50-71663a1d2252"
      },
      "source": [
        "knn_mahal=KNeighborsClassifier(metric='mahalanobis', metric_params={'V':np.cov(X_train, rowvar=False)})\n",
        "knn_mahal.fit(X_train, y_train)\n",
        "\n",
        "y_train_mahal_pred=knn_mahal.predict(X_train)\n",
        "y_val_mahal_pred=knn_mahal.predict(X_val)\n",
        "\n",
        "print(accuracy_score(y_train, y_train_mahal_pred))\n",
        "print(accuracy_score(y_val, y_val_mahal_pred))"
      ],
      "execution_count": 157,
      "outputs": [
        {
          "output_type": "stream",
          "text": [
            "0.9835497835497835\n",
            "0.9616161616161616\n"
          ],
          "name": "stdout"
        }
      ]
    },
    {
      "cell_type": "code",
      "metadata": {
        "colab": {
          "base_uri": "https://localhost:8080/"
        },
        "id": "Zt_kUJZQ88H-",
        "outputId": "11d8f522-ec36-4dbd-9354-7bdb0f3fe974"
      },
      "source": [
        "#표준화\n",
        "knn_mahal.fit(X_train_std, y_train)\n",
        "y_train_mahal_pred=knn_mahal.predict(X_train_std)\n",
        "y_val_mahal_pred=knn_mahal.predict(X_val_std)\n",
        "\n",
        "print(accuracy_score(y_train, y_train_mahal_pred))\n",
        "print(accuracy_score(y_val, y_val_mahal_pred))"
      ],
      "execution_count": 158,
      "outputs": [
        {
          "output_type": "stream",
          "text": [
            "0.7489177489177489\n",
            "0.5616161616161616\n"
          ],
          "name": "stdout"
        }
      ]
    },
    {
      "cell_type": "markdown",
      "metadata": {
        "id": "3FQOgCuKPpHz"
      },
      "source": [
        "### submit 제출"
      ]
    },
    {
      "cell_type": "code",
      "metadata": {
        "colab": {
          "base_uri": "https://localhost:8080/"
        },
        "id": "pcwHd22r1dqO",
        "outputId": "c0c1cf8c-dcb4-4855-c317-dbdaaf1d4dd4"
      },
      "source": [
        "y_test_pred = classle.inverse_transform(y_test_pred) #원래의 문자열로 전환\n",
        "print('species:',np.unique(y_test_pred))"
      ],
      "execution_count": 33,
      "outputs": [
        {
          "output_type": "stream",
          "text": [
            "species: ['apple' 'banana' 'blackgram' 'chickpea' 'coconut' 'coffee' 'cotton'\n",
            " 'grapes' 'jute' 'kidneybeans' 'lentil' 'maize' 'mango' 'mothbeans'\n",
            " 'mungbean' 'muskmelon' 'orange' 'papaya' 'pigeonpeas' 'pomegranate'\n",
            " 'rice' 'watermelon']\n"
          ],
          "name": "stdout"
        }
      ]
    },
    {
      "cell_type": "code",
      "metadata": {
        "colab": {
          "base_uri": "https://localhost:8080/",
          "height": 402
        },
        "id": "4tfCBbcSoD28",
        "outputId": "b78fd75a-13b7-448b-bc50-a9a630a3b123"
      },
      "source": [
        "submit['label']=y_test_pred\n",
        "submit"
      ],
      "execution_count": 34,
      "outputs": [
        {
          "output_type": "execute_result",
          "data": {
            "text/html": [
              "<div>\n",
              "<style scoped>\n",
              "    .dataframe tbody tr th:only-of-type {\n",
              "        vertical-align: middle;\n",
              "    }\n",
              "\n",
              "    .dataframe tbody tr th {\n",
              "        vertical-align: top;\n",
              "    }\n",
              "\n",
              "    .dataframe thead th {\n",
              "        text-align: right;\n",
              "    }\n",
              "</style>\n",
              "<table border=\"1\" class=\"dataframe\">\n",
              "  <thead>\n",
              "    <tr style=\"text-align: right;\">\n",
              "      <th></th>\n",
              "      <th>id</th>\n",
              "      <th>label</th>\n",
              "    </tr>\n",
              "  </thead>\n",
              "  <tbody>\n",
              "    <tr>\n",
              "      <th>0</th>\n",
              "      <td>0</td>\n",
              "      <td>muskmelon</td>\n",
              "    </tr>\n",
              "    <tr>\n",
              "      <th>1</th>\n",
              "      <td>1</td>\n",
              "      <td>watermelon</td>\n",
              "    </tr>\n",
              "    <tr>\n",
              "      <th>2</th>\n",
              "      <td>2</td>\n",
              "      <td>papaya</td>\n",
              "    </tr>\n",
              "    <tr>\n",
              "      <th>3</th>\n",
              "      <td>3</td>\n",
              "      <td>papaya</td>\n",
              "    </tr>\n",
              "    <tr>\n",
              "      <th>4</th>\n",
              "      <td>4</td>\n",
              "      <td>apple</td>\n",
              "    </tr>\n",
              "    <tr>\n",
              "      <th>...</th>\n",
              "      <td>...</td>\n",
              "      <td>...</td>\n",
              "    </tr>\n",
              "    <tr>\n",
              "      <th>545</th>\n",
              "      <td>545</td>\n",
              "      <td>coffee</td>\n",
              "    </tr>\n",
              "    <tr>\n",
              "      <th>546</th>\n",
              "      <td>546</td>\n",
              "      <td>papaya</td>\n",
              "    </tr>\n",
              "    <tr>\n",
              "      <th>547</th>\n",
              "      <td>547</td>\n",
              "      <td>chickpea</td>\n",
              "    </tr>\n",
              "    <tr>\n",
              "      <th>548</th>\n",
              "      <td>548</td>\n",
              "      <td>coffee</td>\n",
              "    </tr>\n",
              "    <tr>\n",
              "      <th>549</th>\n",
              "      <td>549</td>\n",
              "      <td>jute</td>\n",
              "    </tr>\n",
              "  </tbody>\n",
              "</table>\n",
              "<p>550 rows × 2 columns</p>\n",
              "</div>"
            ],
            "text/plain": [
              "      id       label\n",
              "0      0   muskmelon\n",
              "1      1  watermelon\n",
              "2      2      papaya\n",
              "3      3      papaya\n",
              "4      4       apple\n",
              "..   ...         ...\n",
              "545  545      coffee\n",
              "546  546      papaya\n",
              "547  547    chickpea\n",
              "548  548      coffee\n",
              "549  549        jute\n",
              "\n",
              "[550 rows x 2 columns]"
            ]
          },
          "metadata": {
            "tags": []
          },
          "execution_count": 34
        }
      ]
    },
    {
      "cell_type": "code",
      "metadata": {
        "id": "fyr5PZSd5YJf"
      },
      "source": [
        "import pandas as pd\n",
        "submit.to_csv('submit.csv', index=False, encoding='cp949')"
      ],
      "execution_count": 35,
      "outputs": []
    }
  ]
}