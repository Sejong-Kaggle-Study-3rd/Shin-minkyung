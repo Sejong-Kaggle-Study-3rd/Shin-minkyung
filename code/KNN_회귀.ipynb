{
  "nbformat": 4,
  "nbformat_minor": 0,
  "metadata": {
    "colab": {
      "name": "KNN 회귀.ipynb",
      "provenance": []
    },
    "kernelspec": {
      "name": "python3",
      "display_name": "Python 3"
    },
    "language_info": {
      "name": "python"
    }
  },
  "cells": [
    {
      "cell_type": "code",
      "metadata": {
        "colab": {
          "base_uri": "https://localhost:8080/"
        },
        "id": "5uwlb3JluTu8",
        "outputId": "042ceb88-164e-4c33-939d-f2dd0d0e835d"
      },
      "source": [
        "#KNN 회귀\n",
        "#모델 추정\n",
        "from sklearn.neighbors import KNeighborsRegressor\n",
        "regressor = KNeighborsRegressor(n_neighbors = 3, weights = \"distance\")  #distance = 가중평균, default = uniform\n",
        "#training data\n",
        "training_points = [                 #X data\n",
        "                   [0.5, 0.2, 0.1],\n",
        "                   [0.9, 0.7, 0.3],\n",
        "                   [0.4, 0.5, 0.7]\n",
        "]\n",
        "\n",
        "training_labels = [5.0, 6.8, 9.0]   #Y data:등급\n",
        "#모델 fitting\n",
        "regressor.fit(training_points, training_labels)\n",
        "#test data\n",
        "unknown_points = [\n",
        "                  [0.2, 0.1, 0.7],\n",
        "                  [0.4, 0.7, 0.6],\n",
        "                  [0.5, 0.8, 0.1]\n",
        "]\n",
        "#결과 예측\n",
        "guesses = regressor.predict(unknown_points)\n",
        "guesses"
      ],
      "execution_count": 3,
      "outputs": [
        {
          "output_type": "execute_result",
          "data": {
            "text/plain": [
              "array([7.28143288, 7.76451922, 6.8457845 ])"
            ]
          },
          "metadata": {
            "tags": []
          },
          "execution_count": 3
        }
      ]
    }
  ]
}